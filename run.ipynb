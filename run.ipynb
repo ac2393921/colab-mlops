{
  "nbformat": 4,
  "nbformat_minor": 0,
  "metadata": {
    "colab": {
      "provenance": [],
      "authorship_tag": "ABX9TyMvWBFuF2vRfjFtIDPPdM8N",
      "include_colab_link": true
    },
    "kernelspec": {
      "name": "python3",
      "display_name": "Python 3"
    },
    "language_info": {
      "name": "python"
    },
    "gpuClass": "standard"
  },
  "cells": [
    {
      "cell_type": "markdown",
      "metadata": {
        "id": "view-in-github",
        "colab_type": "text"
      },
      "source": [
        "<a href=\"https://colab.research.google.com/github/ac2393921/colab-mlops/blob/main/run.ipynb\" target=\"_parent\"><img src=\"https://colab.research.google.com/assets/colab-badge.svg\" alt=\"Open In Colab\"/></a>"
      ]
    },
    {
      "cell_type": "markdown",
      "source": [
        "# 環境設定"
      ],
      "metadata": {
        "id": "WIT0MkBekLih"
      }
    },
    {
      "cell_type": "code",
      "source": [
        "gpu_info = !nvidia-smi\n",
        "gpu_info = '\\n'.join(gpu_info)\n",
        "print(gpu_info)"
      ],
      "metadata": {
        "id": "kGCWWZb6kMm6"
      },
      "execution_count": null,
      "outputs": []
    },
    {
      "cell_type": "code",
      "source": [
        "!which python\n",
        "!python --version"
      ],
      "metadata": {
        "colab": {
          "base_uri": "https://localhost:8080/"
        },
        "id": "SZdOc3BxN9OV",
        "outputId": "6e23246f-a4d9-47db-fb0a-966fc6ff7266"
      },
      "execution_count": 2,
      "outputs": [
        {
          "output_type": "stream",
          "name": "stdout",
          "text": [
            "/usr/local/bin/python\n",
            "Python 3.8.10\n"
          ]
        }
      ]
    },
    {
      "cell_type": "code",
      "source": [
        "import os\n",
        "\n",
        "try:\n",
        "    from google.colab import auth\n",
        "    auth.authenticate_user()\n",
        "except ImportError:\n",
        "    pass\n",
        "\n",
        "GITHUB_USERNAME = \"ac2393921\"\n",
        "REPOSITORY_NAME = 'colab-mlops'\n",
        "PROJECT_ID = 'colab-mlops'\n",
        "BUCKET_NAME = 'colab-mlops'\n",
        "\n",
        "os.environ[\"S3_PROJECT\"] = PROJECT_ID"
      ],
      "metadata": {
        "id": "Wx0ZQnIOi5oi"
      },
      "execution_count": 3,
      "outputs": []
    },
    {
      "cell_type": "markdown",
      "source": [
        "# 対象のPJリポジトリをClone"
      ],
      "metadata": {
        "id": "JFh0wsCbtejJ"
      }
    },
    {
      "cell_type": "code",
      "source": [
        "!git clone https://github.com/{GITHUB_USERNAME}/{REPOSITORY_NAME}.git\n",
        "%cd ./{REPOSITORY_NAME}"
      ],
      "metadata": {
        "colab": {
          "base_uri": "https://localhost:8080/"
        },
        "id": "nIhFM27cjm7L",
        "outputId": "843a87ed-95d3-435c-811a-d59c70ccb84c"
      },
      "execution_count": 4,
      "outputs": [
        {
          "output_type": "stream",
          "name": "stdout",
          "text": [
            "fatal: destination path 'colab-mlops' already exists and is not an empty directory.\n",
            "/content/colab-mlops\n"
          ]
        }
      ]
    },
    {
      "cell_type": "markdown",
      "source": [
        "# 依存パッケージのインストール"
      ],
      "metadata": {
        "id": "fJwg2T9UkUUy"
      }
    },
    {
      "cell_type": "code",
      "source": [
        "!curl -sSL https://install.python-poetry.org | python -\n",
        "os.environ['PATH'] = f\"/content/.venv/bin:/root/.local/bin:{os.environ['PATH']}\"\n",
        "!poetry config virtualenvs.in-project true\n",
        "!poetry config virtualenvs.options.system-site-packages true\n",
        "!poetry --version\n",
        "!poetry env info"
      ],
      "metadata": {
        "colab": {
          "base_uri": "https://localhost:8080/"
        },
        "id": "L7lptgDHjvMj",
        "outputId": "f239587d-611f-4b5e-fe89-4ec9e0d41bd5"
      },
      "execution_count": 5,
      "outputs": [
        {
          "output_type": "stream",
          "name": "stdout",
          "text": [
            "\u001b[36mRetrieving Poetry metadata\u001b[0m\n",
            "\n",
            "The latest version (\u001b[1m1.3.2\u001b[0m) is already installed.\n",
            "\u001b[39;1mPoetry\u001b[39;22m (version \u001b[36m1.3.2\u001b[39m)\n",
            "\n",
            "\u001b[39;1mVirtualenv\u001b[39;22m\n",
            "\u001b[34mPython\u001b[39m:         \u001b[32m3.8.10\u001b[39m\n",
            "\u001b[34mImplementation\u001b[39m: \u001b[32mCPython\u001b[39m\n",
            "\u001b[34mPath\u001b[39m:           \u001b[32m/content/colab-mlops/.venv\u001b[39m\n",
            "\u001b[34mExecutable\u001b[39m:     \u001b[32m/content/colab-mlops/.venv/bin/python\u001b[39m\n",
            "\u001b[34mValid\u001b[39m:          \u001b[32mTrue\u001b[39m\n",
            "\n",
            "\u001b[39;1mSystem\u001b[39;22m\n",
            "\u001b[34mPlatform\u001b[39m:   \u001b[32mlinux\u001b[39m\n",
            "\u001b[34mOS\u001b[39m:         \u001b[32mposix\u001b[39m\n",
            "\u001b[34mPython\u001b[39m:     \u001b[32m3.8.10\u001b[39m\n",
            "\u001b[34mPath\u001b[39m:       \u001b[32m/usr\u001b[39m\n",
            "\u001b[34mExecutable\u001b[39m: \u001b[32m/usr/bin/python3.8\u001b[39m\n"
          ]
        }
      ]
    },
    {
      "cell_type": "code",
      "source": [
        "# !poetry install\n",
        "# !poetry show"
      ],
      "metadata": {
        "id": "Q8_4gnjIj6EY"
      },
      "execution_count": 6,
      "outputs": []
    },
    {
      "cell_type": "code",
      "source": [
        "!poetry export --format requirements.txt --output requirements.txt\n",
        "!pip3 install -r requirements.txt"
      ],
      "metadata": {
        "colab": {
          "base_uri": "https://localhost:8080/"
        },
        "id": "Q-gaqAQPp5Pw",
        "outputId": "d32789a5-83b7-4009-8d4c-fcdd6aaeb86d"
      },
      "execution_count": 7,
      "outputs": [
        {
          "output_type": "stream",
          "name": "stdout",
          "text": [
            "Looking in indexes: https://pypi.org/simple, https://us-python.pkg.dev/colab-wheels/public/simple/\n",
            "Ignoring colorama: markers 'python_version >= \"3.8\" and python_version < \"4.0\" and platform_system == \"Windows\"' don't match your environment\n",
            "Ignoring pywin32: markers 'python_version >= \"3.8\" and python_version < \"4.0\" and sys_platform == \"win32\"' don't match your environment\n",
            "Ignoring waitress: markers 'python_version >= \"3.8\" and python_version < \"4.0\" and platform_system == \"Windows\"' don't match your environment\n",
            "Requirement already satisfied: alembic==1.4.1 in /usr/local/lib/python3.8/dist-packages (from -r requirements.txt (line 1)) (1.4.1)\n",
            "Requirement already satisfied: certifi==2022.12.7 in /usr/local/lib/python3.8/dist-packages (from -r requirements.txt (line 3)) (2022.12.7)\n",
            "Requirement already satisfied: charset-normalizer==3.0.1 in /usr/local/lib/python3.8/dist-packages (from -r requirements.txt (line 6)) (3.0.1)\n",
            "Requirement already satisfied: click==8.1.3 in /usr/local/lib/python3.8/dist-packages (from -r requirements.txt (line 95)) (8.1.3)\n",
            "Requirement already satisfied: cloudpickle==2.2.1 in /usr/local/lib/python3.8/dist-packages (from -r requirements.txt (line 98)) (2.2.1)\n",
            "Requirement already satisfied: databricks-cli==0.17.4 in /usr/local/lib/python3.8/dist-packages (from -r requirements.txt (line 104)) (0.17.4)\n",
            "Requirement already satisfied: docker==6.0.1 in /usr/local/lib/python3.8/dist-packages (from -r requirements.txt (line 107)) (6.0.1)\n",
            "Requirement already satisfied: entrypoints==0.4 in /usr/local/lib/python3.8/dist-packages (from -r requirements.txt (line 110)) (0.4)\n",
            "Requirement already satisfied: flask==2.2.3 in /usr/local/lib/python3.8/dist-packages (from -r requirements.txt (line 113)) (2.2.3)\n",
            "Requirement already satisfied: gitdb==4.0.10 in /usr/local/lib/python3.8/dist-packages (from -r requirements.txt (line 116)) (4.0.10)\n",
            "Requirement already satisfied: gitpython==3.1.31 in /usr/local/lib/python3.8/dist-packages (from -r requirements.txt (line 119)) (3.1.31)\n",
            "Requirement already satisfied: greenlet==2.0.2 in /usr/local/lib/python3.8/dist-packages (from -r requirements.txt (line 122)) (2.0.2)\n",
            "Requirement already satisfied: gunicorn==20.1.0 in /usr/local/lib/python3.8/dist-packages (from -r requirements.txt (line 183)) (20.1.0)\n",
            "Requirement already satisfied: idna==3.4 in /usr/local/lib/python3.8/dist-packages (from -r requirements.txt (line 186)) (3.4)\n",
            "Requirement already satisfied: importlib-metadata==6.0.0 in /usr/local/lib/python3.8/dist-packages (from -r requirements.txt (line 189)) (6.0.0)\n",
            "Requirement already satisfied: itsdangerous==2.1.2 in /usr/local/lib/python3.8/dist-packages (from -r requirements.txt (line 192)) (2.1.2)\n",
            "Requirement already satisfied: jinja2==3.1.2 in /usr/local/lib/python3.8/dist-packages (from -r requirements.txt (line 195)) (3.1.2)\n",
            "Requirement already satisfied: mako==1.2.4 in /usr/local/lib/python3.8/dist-packages (from -r requirements.txt (line 198)) (1.2.4)\n",
            "Requirement already satisfied: markupsafe==2.1.2 in /usr/local/lib/python3.8/dist-packages (from -r requirements.txt (line 201)) (2.1.2)\n",
            "Requirement already satisfied: mlflow==1.22.0 in /usr/local/lib/python3.8/dist-packages (from -r requirements.txt (line 252)) (1.22.0)\n",
            "Requirement already satisfied: numpy==1.23.4 in /usr/local/lib/python3.8/dist-packages (from -r requirements.txt (line 255)) (1.23.4)\n",
            "Requirement already satisfied: oauthlib==3.2.2 in /usr/local/lib/python3.8/dist-packages (from -r requirements.txt (line 284)) (3.2.2)\n",
            "Requirement already satisfied: packaging==23.0 in /usr/local/lib/python3.8/dist-packages (from -r requirements.txt (line 287)) (23.0)\n",
            "Requirement already satisfied: pandas==1.5.3 in /usr/local/lib/python3.8/dist-packages (from -r requirements.txt (line 290)) (1.5.3)\n",
            "Requirement already satisfied: prometheus-client==0.16.0 in /usr/local/lib/python3.8/dist-packages (from -r requirements.txt (line 318)) (0.16.0)\n",
            "Requirement already satisfied: prometheus-flask-exporter==0.22.1 in /usr/local/lib/python3.8/dist-packages (from -r requirements.txt (line 321)) (0.22.1)\n",
            "Requirement already satisfied: protobuf==3.20.1 in /usr/local/lib/python3.8/dist-packages (from -r requirements.txt (line 324)) (3.20.1)\n",
            "Requirement already satisfied: pyjwt==2.6.0 in /usr/local/lib/python3.8/dist-packages (from -r requirements.txt (line 349)) (2.6.0)\n",
            "Requirement already satisfied: python-dateutil==2.8.2 in /usr/local/lib/python3.8/dist-packages (from -r requirements.txt (line 352)) (2.8.2)\n",
            "Requirement already satisfied: python-editor==1.0.4 in /usr/local/lib/python3.8/dist-packages (from -r requirements.txt (line 355)) (1.0.4)\n",
            "Requirement already satisfied: pytz==2022.7.1 in /usr/local/lib/python3.8/dist-packages (from -r requirements.txt (line 359)) (2022.7.1)\n",
            "Requirement already satisfied: pyyaml==6.0 in /usr/local/lib/python3.8/dist-packages (from -r requirements.txt (line 377)) (6.0)\n",
            "Requirement already satisfied: querystring-parser==1.2.4 in /usr/local/lib/python3.8/dist-packages (from -r requirements.txt (line 418)) (1.2.4)\n",
            "Requirement already satisfied: requests==2.28.2 in /usr/local/lib/python3.8/dist-packages (from -r requirements.txt (line 421)) (2.28.2)\n",
            "Requirement already satisfied: setuptools==67.3.3 in /usr/local/lib/python3.8/dist-packages (from -r requirements.txt (line 424)) (67.3.3)\n",
            "Requirement already satisfied: six==1.16.0 in /usr/local/lib/python3.8/dist-packages (from -r requirements.txt (line 427)) (1.16.0)\n",
            "Requirement already satisfied: smmap==5.0.0 in /usr/local/lib/python3.8/dist-packages (from -r requirements.txt (line 430)) (5.0.0)\n",
            "Requirement already satisfied: sqlalchemy==2.0.4 in /usr/local/lib/python3.8/dist-packages (from -r requirements.txt (line 433)) (2.0.4)\n",
            "Requirement already satisfied: sqlparse==0.4.3 in /usr/local/lib/python3.8/dist-packages (from -r requirements.txt (line 475)) (0.4.3)\n",
            "Requirement already satisfied: tabulate==0.9.0 in /usr/local/lib/python3.8/dist-packages (from -r requirements.txt (line 478)) (0.9.0)\n",
            "Requirement already satisfied: typing-extensions==4.5.0 in /usr/local/lib/python3.8/dist-packages (from -r requirements.txt (line 481)) (4.5.0)\n",
            "Requirement already satisfied: urllib3==1.26.14 in /usr/local/lib/python3.8/dist-packages (from -r requirements.txt (line 484)) (1.26.14)\n",
            "Requirement already satisfied: websocket-client==1.5.1 in /usr/local/lib/python3.8/dist-packages (from -r requirements.txt (line 490)) (1.5.1)\n",
            "Requirement already satisfied: werkzeug==2.2.3 in /usr/local/lib/python3.8/dist-packages (from -r requirements.txt (line 493)) (2.2.3)\n",
            "Requirement already satisfied: zipp==3.14.0 in /usr/local/lib/python3.8/dist-packages (from -r requirements.txt (line 496)) (3.14.0)\n"
          ]
        }
      ]
    },
    {
      "cell_type": "markdown",
      "source": [
        "# モデル実行"
      ],
      "metadata": {
        "id": "vpcEFbNCkakm"
      }
    },
    {
      "cell_type": "code",
      "source": [
        "!poetry run python main.py"
      ],
      "metadata": {
        "id": "2mxaWtAnmi5h"
      },
      "execution_count": 8,
      "outputs": []
    },
    {
      "cell_type": "code",
      "source": [],
      "metadata": {
        "id": "ceB8T0rDjVum"
      },
      "execution_count": null,
      "outputs": []
    }
  ]
}